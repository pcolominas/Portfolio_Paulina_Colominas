{
 "cells": [
  {
   "cell_type": "code",
   "execution_count": null,
   "metadata": {},
   "outputs": [],
   "source": [
    "import pandas as pd\n",
    "from sklearn.model_selection import train_test_split, GridSearchCV\n",
    "from sklearn.ensemble import RandomForestRegressor\n",
    "from sklearn.metrics import mean_squared_error, r2_score\n",
    "import numpy as np\n",
    "import CoolProp.CoolProp as CP\n",
    "from xgboost import XGBRegressor\n",
    "\n",
    "data = pd.read_excel(r\"Input_time.xlsx\")\n",
    "\n",
    "X= data[['Presion de Alta','Tbh (ºC)','PotComp elec','T salida lado frio (ºC)']]\n",
    "y = data['T entrada lado frio (ºC)']\n",
    "model_ = RandomForestRegressor(n_estimators=153,\n",
    "max_depth=19,\n",
    "min_samples_split=37,\n",
    "min_samples_leaf=11,\n",
    "random_state=42,\n",
    "max_features='sqrt'\n",
    ")\n",
    "\n",
    "X_train, X_test, y_train, y_test = train_test_split(X, y, test_size=0.2,\n",
    "random_state=42)\n",
    "model_.fit(X_train, y_train)\n",
    "y_pred = model_.predict(X_test)\n",
    "y_pred2 = model_.predict(X_train)\n",
    "\n",
    "rmse = np.sqrt(mean_squared_error(y_test, y_pred))\n",
    "r2= r2_score(y_test, y_pred)\n",
    "print(f'RMSE test: {rmse}')\n",
    "print(f'r^2 test: {r2}')\n",
    "\n",
    "rmse_2 = np.sqrt(mean_squared_error(y_train, y_pred2))\n",
    "r2_2= r2_score(y_train, y_pred2)\n",
    "print(f'RMSE train: {rmse_2}')\n",
    "print(f'r^2 train: {r2_2}')"
   ]
  }
 ],
 "metadata": {
  "language_info": {
   "name": "python"
  }
 },
 "nbformat": 4,
 "nbformat_minor": 2
}
