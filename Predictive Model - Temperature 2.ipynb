{
 "cells": [
  {
   "cell_type": "code",
   "execution_count": null,
   "metadata": {},
   "outputs": [],
   "source": [
    "import pandas as pd\n",
    "from sklearn.ensemble import RandomForestRegressor, GradientBoostingRegressor\n",
    "from sklearn.metrics import mean_squared_error, r2_score\n",
    "import numpy as np\n",
    "from sklearn.model_selection import train_test_split, GridSearchCV\n",
    "from xgboost import XGBRegressor\n",
    "\n",
    "data = pd.read_excel(r\"Input_time.xlsx\")\n",
    "\n",
    "X = data[['T entrada lado caliente (ºC)', 'Tbh (ºC)', 'Presion de Alta' ,'T salida lado caliente (ºC)']]\n",
    "y = data['T salida lado frio (ºC)']\n",
    "X_train, X_test, y_train, y_test = train_test_split(X, y, test_size=0.2,\n",
    "random_state=42)\n",
    "gbr_model = GradientBoostingRegressor(\n",
    "n_estimators=300,\n",
    "learning_rate=0.05,\n",
    "max_depth=5,\n",
    "min_samples_split=16,\n",
    "min_samples_leaf=7,\n",
    "max_features=None,\n",
    "random_state=42\n",
    ")\n",
    "\n",
    "gbr_model.fit(X_train, y_train)\n",
    "y_pred = gbr_model.predict(X_test)\n",
    "y_pred2 = gbr_model.predict(X_train)\n",
    "\n",
    "rmse = np.sqrt(mean_squared_error(y_test, y_pred))\n",
    "r2= r2_score(y_test, y_pred)\n",
    "print(f'RMSE test: {rmse}')\n",
    "print(f'r^2 test: {r2}')\n",
    "\n",
    "rmse_2 = np.sqrt(mean_squared_error(y_train, y_pred2))\n",
    "r2_2= r2_score(y_train, y_pred2)\n",
    "\n",
    "print(f'RMSE train: {rmse_2}')\n",
    "print(f'r^2 train: {r2_2}')"
   ]
  }
 ],
 "metadata": {
  "language_info": {
   "name": "python"
  }
 },
 "nbformat": 4,
 "nbformat_minor": 2
}
